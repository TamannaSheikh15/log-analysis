{
  "nbformat": 4,
  "nbformat_minor": 0,
  "metadata": {
    "colab": {
      "provenance": [],
      "authorship_tag": "ABX9TyMdmexgYDSA7FtYN0JwRres",
      "include_colab_link": true
    },
    "kernelspec": {
      "name": "python3",
      "display_name": "Python 3"
    },
    "language_info": {
      "name": "python"
    }
  },
  "cells": [
    {
      "cell_type": "markdown",
      "metadata": {
        "id": "view-in-github",
        "colab_type": "text"
      },
      "source": [
        "<a href=\"https://colab.research.google.com/github/TamannaSheikh15/log-analysis/blob/main/log_analysis_py.ipynb\" target=\"_parent\"><img src=\"https://colab.research.google.com/assets/colab-badge.svg\" alt=\"Open In Colab\"/></a>"
      ]
    },
    {
      "cell_type": "code",
      "execution_count": 27,
      "metadata": {
        "id": "PqTg0QgCU8Tl"
      },
      "outputs": [],
      "source": [
        "import re\n",
        "import csv\n",
        "from collections import defaultdict\n",
        "from google.colab import files"
      ]
    },
    {
      "cell_type": "code",
      "source": [
        "# Log file name\n",
        "log_file = 'sample.log'"
      ],
      "metadata": {
        "id": "l0MLMnndXjpX"
      },
      "execution_count": 19,
      "outputs": []
    },
    {
      "cell_type": "code",
      "source": [
        "#  Initialize variables for analysis\n",
        "ip_requests = defaultdict(int)\n",
        "endpoint_requests = defaultdict(int)\n",
        "failed_logins = defaultdict(int)"
      ],
      "metadata": {
        "id": "aBB0RZaIXm4M"
      },
      "execution_count": 29,
      "outputs": []
    },
    {
      "cell_type": "code",
      "source": [
        "# Regular expressions to extract data\n",
        "ip_pattern = re.compile(r'(\\d+\\.\\d+\\.\\d+\\.\\d+)')\n",
        "endpoint_pattern = re.compile(r'\"[A-Z]+\\s(/[\\w\\-/]+)\\s')\n",
        "status_code_pattern = re.compile(r'\\s(\\d{3})\\s')\n",
        "failed_login_message = \"Invalid credentials\""
      ],
      "metadata": {
        "id": "PqsBmzsTZXz7"
      },
      "execution_count": 30,
      "outputs": []
    },
    {
      "cell_type": "code",
      "source": [
        "#  Process the log file\n",
        "try:\n",
        "    with open(log_file, 'r') as file:\n",
        "        for line in file:\n",
        "            # Extract IP address\n",
        "            ip_match = ip_pattern.search(line)\n",
        "            if ip_match:\n",
        "                ip_requests[ip_match.group(1)] += 1\n",
        "\n",
        "            # Extract endpoint\n",
        "            endpoint_match = endpoint_pattern.search(line)\n",
        "            if endpoint_match:\n",
        "                endpoint_requests[endpoint_match.group(1)] += 1\n",
        "\n",
        "            # Detect failed login attempts\n",
        "            if '401' in line or failed_login_message in line:\n",
        "                if ip_match:\n",
        "                    failed_logins[ip_match.group(1)] += 1\n",
        "except FileNotFoundError:\n",
        "    print(f\"Error: {log_file} not found. Please upload the file correctly.\")\n"
      ],
      "metadata": {
        "id": "sFW-vS42Zit1"
      },
      "execution_count": 31,
      "outputs": []
    },
    {
      "cell_type": "code",
      "source": [
        "#  Analyze results\n",
        "# Most accessed endpoint\n",
        "most_accessed_endpoint = max(endpoint_requests.items(), key=lambda x: x[1])"
      ],
      "metadata": {
        "id": "DRmYa4Qaa86u"
      },
      "execution_count": 32,
      "outputs": []
    },
    {
      "cell_type": "code",
      "source": [
        "#  Save results to a CSV file\n",
        "csv_file = 'log_analysis_results.csv'\n",
        "with open(csv_file, 'w', newline='') as csvfile:\n",
        "    writer = csv.writer(csvfile)\n",
        "\n",
        "    # Write IP request counts\n",
        "    writer.writerow(['IP Address', 'Request Count'])\n",
        "    for ip, count in ip_requests.items():\n",
        "        writer.writerow([ip, count])\n",
        "\n",
        "    # Write the most accessed endpoint\n",
        "    writer.writerow([])\n",
        "    writer.writerow(['Most Accessed Endpoint', 'Access Count'])\n",
        "    writer.writerow([most_accessed_endpoint[0], most_accessed_endpoint[1]])\n",
        "\n",
        "    # Write failed login attempts\n",
        "    writer.writerow([])\n",
        "    writer.writerow(['IP Address', 'Failed Login Attempts'])\n",
        "    for ip, count in failed_logins.items():\n",
        "        writer.writerow([ip, count])\n",
        "\n",
        "print(f\"Analysis complete. Results saved to {csv_file}\")"
      ],
      "metadata": {
        "colab": {
          "base_uri": "https://localhost:8080/"
        },
        "id": "6d-GbSxqbAEx",
        "outputId": "ecd58fe4-907e-41e1-8c5c-a4f15bedacee"
      },
      "execution_count": 33,
      "outputs": [
        {
          "output_type": "stream",
          "name": "stdout",
          "text": [
            "Analysis complete. Results saved to log_analysis_results.csv\n"
          ]
        }
      ]
    },
    {
      "cell_type": "code",
      "source": [
        "# Download the results\n",
        "files.download(csv_file)"
      ],
      "metadata": {
        "colab": {
          "base_uri": "https://localhost:8080/",
          "height": 17
        },
        "id": "Fa1q0YgxbAcj",
        "outputId": "0383033e-8bc0-4272-c8d6-e040b233efde"
      },
      "execution_count": 34,
      "outputs": [
        {
          "output_type": "display_data",
          "data": {
            "text/plain": [
              "<IPython.core.display.Javascript object>"
            ],
            "application/javascript": [
              "\n",
              "    async function download(id, filename, size) {\n",
              "      if (!google.colab.kernel.accessAllowed) {\n",
              "        return;\n",
              "      }\n",
              "      const div = document.createElement('div');\n",
              "      const label = document.createElement('label');\n",
              "      label.textContent = `Downloading \"${filename}\": `;\n",
              "      div.appendChild(label);\n",
              "      const progress = document.createElement('progress');\n",
              "      progress.max = size;\n",
              "      div.appendChild(progress);\n",
              "      document.body.appendChild(div);\n",
              "\n",
              "      const buffers = [];\n",
              "      let downloaded = 0;\n",
              "\n",
              "      const channel = await google.colab.kernel.comms.open(id);\n",
              "      // Send a message to notify the kernel that we're ready.\n",
              "      channel.send({})\n",
              "\n",
              "      for await (const message of channel.messages) {\n",
              "        // Send a message to notify the kernel that we're ready.\n",
              "        channel.send({})\n",
              "        if (message.buffers) {\n",
              "          for (const buffer of message.buffers) {\n",
              "            buffers.push(buffer);\n",
              "            downloaded += buffer.byteLength;\n",
              "            progress.value = downloaded;\n",
              "          }\n",
              "        }\n",
              "      }\n",
              "      const blob = new Blob(buffers, {type: 'application/binary'});\n",
              "      const a = document.createElement('a');\n",
              "      a.href = window.URL.createObjectURL(blob);\n",
              "      a.download = filename;\n",
              "      div.appendChild(a);\n",
              "      a.click();\n",
              "      div.remove();\n",
              "    }\n",
              "  "
            ]
          },
          "metadata": {}
        },
        {
          "output_type": "display_data",
          "data": {
            "text/plain": [
              "<IPython.core.display.Javascript object>"
            ],
            "application/javascript": [
              "download(\"download_093ac9a7-24a6-47bd-972e-3ac1f89ef618\", \"log_analysis_results.csv\", 220)"
            ]
          },
          "metadata": {}
        }
      ]
    }
  ]
}